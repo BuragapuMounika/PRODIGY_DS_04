{
 "cells": [
  {
   "cell_type": "code",
   "execution_count": 5,
   "id": "eae21a0d-4f1d-40fe-9470-e7ef27a3e611",
   "metadata": {},
   "outputs": [],
   "source": [
    "import pandas as pd\n",
    "import numpy as np\n",
    "import matplotlib.pyplot as plt\n",
    "import seaborn as sns\n"
   ]
  },
  {
   "cell_type": "code",
   "execution_count": 13,
   "id": "cc7825a3-b2c0-4be9-b671-639352b677ba",
   "metadata": {},
   "outputs": [],
   "source": [
    "td = pd.read_csv('twitter_training.csv')#traing data(td)\n",
    "vd=pd.read_csv('twitter_cleaned.csv')#validation data(vd)"
   ]
  },
  {
   "cell_type": "code",
   "execution_count": 11,
   "id": "ffa85239-7aed-4566-9956-7c1e1df51c15",
   "metadata": {},
   "outputs": [
    {
     "data": {
      "text/plain": [
       "(       Unnamed: 0  Sentiment  Tweet_word_count  Tweet_char_count  \\\n",
       " 0               0          1                11                43   \n",
       " 1               1          1                12                40   \n",
       " 2               2          1                10                41   \n",
       " 3               3          1                10                42   \n",
       " 4               4          1                12                46   \n",
       " ...           ...        ...               ...               ...   \n",
       " 73991       74677          1                26               103   \n",
       " 73992       74678          1                23                95   \n",
       " 73993       74679          1                25               101   \n",
       " 73994       74680          1                32               128   \n",
       " 73995       74681          1                25                95   \n",
       " \n",
       "                                              Tweet_clean  ApexLegends  \\\n",
       " 0                           im getting borderland murder            0   \n",
       " 1                                     coming border kill            0   \n",
       " 2                             im getting borderland kill            0   \n",
       " 3                            im coming borderland murder            0   \n",
       " 4                           im getting borderland murder            0   \n",
       " ...                                                  ...          ...   \n",
       " 73991  realized window partition mac like year behind...            0   \n",
       " 73992  realized mac window partition year behind nvid...            0   \n",
       " 73993  realized window partition mac year behind nvid...            0   \n",
       " 73994  realized window partition mac like year behind...            0   \n",
       " 73995  like window partition mac like year behind dri...            0   \n",
       " \n",
       "        AssassinsCreed  Battlefield  Borderlands  CS-GO  ...  Overwatch  \\\n",
       " 0                   0            0            1      0  ...          0   \n",
       " 1                   0            0            1      0  ...          0   \n",
       " 2                   0            0            1      0  ...          0   \n",
       " 3                   0            0            1      0  ...          0   \n",
       " 4                   0            0            1      0  ...          0   \n",
       " ...               ...          ...          ...    ...  ...        ...   \n",
       " 73991               0            0            0      0  ...          0   \n",
       " 73992               0            0            0      0  ...          0   \n",
       " 73993               0            0            0      0  ...          0   \n",
       " 73994               0            0            0      0  ...          0   \n",
       " 73995               0            0            0      0  ...          0   \n",
       " \n",
       "        PlayStation5(PS5)  PlayerUnknownsBattlegrounds(PUBG)  \\\n",
       " 0                      0                                  0   \n",
       " 1                      0                                  0   \n",
       " 2                      0                                  0   \n",
       " 3                      0                                  0   \n",
       " 4                      0                                  0   \n",
       " ...                  ...                                ...   \n",
       " 73991                  0                                  0   \n",
       " 73992                  0                                  0   \n",
       " 73993                  0                                  0   \n",
       " 73994                  0                                  0   \n",
       " 73995                  0                                  0   \n",
       " \n",
       "        RedDeadRedemption(RDR)  TomClancysGhostRecon  TomClancysRainbowSix  \\\n",
       " 0                           0                     0                     0   \n",
       " 1                           0                     0                     0   \n",
       " 2                           0                     0                     0   \n",
       " 3                           0                     0                     0   \n",
       " 4                           0                     0                     0   \n",
       " ...                       ...                   ...                   ...   \n",
       " 73991                       0                     0                     0   \n",
       " 73992                       0                     0                     0   \n",
       " 73993                       0                     0                     0   \n",
       " 73994                       0                     0                     0   \n",
       " 73995                       0                     0                     0   \n",
       " \n",
       "        Verizon  WorldOfCraft  Xbox(Xseries)  johnson&johnson  \n",
       " 0            0             0              0                0  \n",
       " 1            0             0              0                0  \n",
       " 2            0             0              0                0  \n",
       " 3            0             0              0                0  \n",
       " 4            0             0              0                0  \n",
       " ...        ...           ...            ...              ...  \n",
       " 73991        0             0              0                0  \n",
       " 73992        0             0              0                0  \n",
       " 73993        0             0              0                0  \n",
       " 73994        0             0              0                0  \n",
       " 73995        0             0              0                0  \n",
       " \n",
       " [73996 rows x 36 columns],\n",
       "        2401  Borderlands  Positive  \\\n",
       " 0      2401  Borderlands  Positive   \n",
       " 1      2401  Borderlands  Positive   \n",
       " 2      2401  Borderlands  Positive   \n",
       " 3      2401  Borderlands  Positive   \n",
       " 4      2401  Borderlands  Positive   \n",
       " ...     ...          ...       ...   \n",
       " 74676  9200       Nvidia  Positive   \n",
       " 74677  9200       Nvidia  Positive   \n",
       " 74678  9200       Nvidia  Positive   \n",
       " 74679  9200       Nvidia  Positive   \n",
       " 74680  9200       Nvidia  Positive   \n",
       " \n",
       "       im getting on borderlands and i will murder you all ,  \n",
       " 0      I am coming to the borders and I will kill you...     \n",
       " 1      im getting on borderlands and i will kill you ...     \n",
       " 2      im coming on borderlands and i will murder you...     \n",
       " 3      im getting on borderlands 2 and i will murder ...     \n",
       " 4      im getting into borderlands and i can murder y...     \n",
       " ...                                                  ...     \n",
       " 74676  Just realized that the Windows partition of my...     \n",
       " 74677  Just realized that my Mac window partition is ...     \n",
       " 74678  Just realized the windows partition of my Mac ...     \n",
       " 74679  Just realized between the windows partition of...     \n",
       " 74680  Just like the windows partition of my Mac is l...     \n",
       " \n",
       " [74681 rows x 4 columns])"
      ]
     },
     "execution_count": 11,
     "metadata": {},
     "output_type": "execute_result"
    }
   ],
   "source": [
    "th=td.head()#training head\n",
    "vh=vd.head()#validation head\n",
    "vd,td"
   ]
  },
  {
   "cell_type": "code",
   "execution_count": 14,
   "id": "dfad2ba8-a881-422b-aea0-5e11ba30e1c4",
   "metadata": {},
   "outputs": [
    {
     "data": {
      "text/plain": [
       "(2401                                                       0\n",
       " Borderlands                                                0\n",
       " Positive                                                   0\n",
       " im getting on borderlands and i will murder you all ,    686\n",
       " dtype: int64,\n",
       " Unnamed: 0                              0\n",
       " Sentiment                               0\n",
       " Tweet_word_count                        0\n",
       " Tweet_char_count                        0\n",
       " Tweet_clean                          1710\n",
       " ApexLegends                             0\n",
       " AssassinsCreed                          0\n",
       " Battlefield                             0\n",
       " Borderlands                             0\n",
       " CS-GO                                   0\n",
       " CallOfDuty                              0\n",
       " CallOfDutyBlackopsColdWar               0\n",
       " Cyberpunk2077                           0\n",
       " Dota2                                   0\n",
       " FIFA                                    0\n",
       " Facebook                                0\n",
       " Fortnite                                0\n",
       " Google                                  0\n",
       " GrandTheftAuto(GTA)                     0\n",
       " Hearthstone                             0\n",
       " HomeDepot                               0\n",
       " LeagueOfLegends                         0\n",
       " MaddenNFL                               0\n",
       " Microsoft                               0\n",
       " NBA2K                                   0\n",
       " Nvidia                                  0\n",
       " Overwatch                               0\n",
       " PlayStation5(PS5)                       0\n",
       " PlayerUnknownsBattlegrounds(PUBG)       0\n",
       " RedDeadRedemption(RDR)                  0\n",
       " TomClancysGhostRecon                    0\n",
       " TomClancysRainbowSix                    0\n",
       " Verizon                                 0\n",
       " WorldOfCraft                            0\n",
       " Xbox(Xseries)                           0\n",
       " johnson&johnson                         0\n",
       " dtype: int64,\n",
       " 2700,\n",
       " 0)"
      ]
     },
     "execution_count": 14,
     "metadata": {},
     "output_type": "execute_result"
    }
   ],
   "source": [
    "mt = td.isnull().sum()         #missing traing(mt)\n",
    "mv = vd.isnull().sum()         #missing validation(mv)\n",
    "\n",
    "\n",
    "dt = td.duplicated().sum()     # duplicate training\n",
    "dv = vd.duplicated().sum()     # duplicate validation\n",
    "\n",
    "mt, mv, dt, dv                 #missing training,missing value,duplicate training,duplicate validation"
   ]
  },
  {
   "cell_type": "code",
   "execution_count": 15,
   "id": "c0d49456-0586-4ba0-b6fd-851c3118d8e0",
   "metadata": {},
   "outputs": [
    {
     "data": {
      "text/html": [
       "<div>\n",
       "<style scoped>\n",
       "    .dataframe tbody tr th:only-of-type {\n",
       "        vertical-align: middle;\n",
       "    }\n",
       "\n",
       "    .dataframe tbody tr th {\n",
       "        vertical-align: top;\n",
       "    }\n",
       "\n",
       "    .dataframe thead th {\n",
       "        text-align: right;\n",
       "    }\n",
       "</style>\n",
       "<table border=\"1\" class=\"dataframe\">\n",
       "  <thead>\n",
       "    <tr style=\"text-align: right;\">\n",
       "      <th></th>\n",
       "      <th>2401</th>\n",
       "      <th>Borderlands</th>\n",
       "      <th>Positive</th>\n",
       "      <th>im getting on borderlands and i will murder you all ,</th>\n",
       "    </tr>\n",
       "  </thead>\n",
       "  <tbody>\n",
       "    <tr>\n",
       "      <th>0</th>\n",
       "      <td>2401</td>\n",
       "      <td>Borderlands</td>\n",
       "      <td>Positive</td>\n",
       "      <td>I am coming to the borders and I will kill you...</td>\n",
       "    </tr>\n",
       "    <tr>\n",
       "      <th>1</th>\n",
       "      <td>2401</td>\n",
       "      <td>Borderlands</td>\n",
       "      <td>Positive</td>\n",
       "      <td>im getting on borderlands and i will kill you ...</td>\n",
       "    </tr>\n",
       "    <tr>\n",
       "      <th>2</th>\n",
       "      <td>2401</td>\n",
       "      <td>Borderlands</td>\n",
       "      <td>Positive</td>\n",
       "      <td>im coming on borderlands and i will murder you...</td>\n",
       "    </tr>\n",
       "    <tr>\n",
       "      <th>3</th>\n",
       "      <td>2401</td>\n",
       "      <td>Borderlands</td>\n",
       "      <td>Positive</td>\n",
       "      <td>im getting on borderlands 2 and i will murder ...</td>\n",
       "    </tr>\n",
       "    <tr>\n",
       "      <th>4</th>\n",
       "      <td>2401</td>\n",
       "      <td>Borderlands</td>\n",
       "      <td>Positive</td>\n",
       "      <td>im getting into borderlands and i can murder y...</td>\n",
       "    </tr>\n",
       "  </tbody>\n",
       "</table>\n",
       "</div>"
      ],
      "text/plain": [
       "   2401  Borderlands  Positive  \\\n",
       "0  2401  Borderlands  Positive   \n",
       "1  2401  Borderlands  Positive   \n",
       "2  2401  Borderlands  Positive   \n",
       "3  2401  Borderlands  Positive   \n",
       "4  2401  Borderlands  Positive   \n",
       "\n",
       "  im getting on borderlands and i will murder you all ,  \n",
       "0  I am coming to the borders and I will kill you...     \n",
       "1  im getting on borderlands and i will kill you ...     \n",
       "2  im coming on borderlands and i will murder you...     \n",
       "3  im getting on borderlands 2 and i will murder ...     \n",
       "4  im getting into borderlands and i can murder y...     "
      ]
     },
     "execution_count": 15,
     "metadata": {},
     "output_type": "execute_result"
    }
   ],
   "source": [
    "#to check the first five rows of the dataset\n",
    "td.head()#training data"
   ]
  },
  {
   "cell_type": "code",
   "execution_count": 16,
   "id": "12663934-d96f-416e-a875-d3d6de11c460",
   "metadata": {},
   "outputs": [
    {
     "data": {
      "text/plain": [
       "(Positive\n",
       " Negative      22542\n",
       " Positive      20831\n",
       " Neutral       18318\n",
       " Irrelevant    12990\n",
       " Name: count, dtype: int64,\n",
       " Tweet_word_count\n",
       " 12     2744\n",
       " 6      2742\n",
       " 11     2587\n",
       " 10     2580\n",
       " 8      2578\n",
       "        ... \n",
       " 75        1\n",
       " 166       1\n",
       " 97        1\n",
       " 91        1\n",
       " 150       1\n",
       " Name: count, Length: 97, dtype: int64,\n",
       " 32)"
      ]
     },
     "execution_count": 16,
     "metadata": {},
     "output_type": "execute_result"
    }
   ],
   "source": [
    "\n",
    "tsd = td.iloc[:, 2].value_counts()#training stimulated data\n",
    "vsd = vd.iloc[:, 2].value_counts()#validation stimulation data\n",
    "\n",
    "\n",
    "uet = td.iloc[:, 1].nunique()#unique entity data\n",
    "\n",
    "tsd, vsd, uet"
   ]
  },
  {
   "cell_type": "code",
   "execution_count": 19,
   "id": "85d35545-c51f-405b-95e5-0e1ab3266ccc",
   "metadata": {},
   "outputs": [
    {
     "data": {
      "text/plain": [
       "(0,\n",
       " 2401                                                     0\n",
       " Borderlands                                              0\n",
       " Positive                                                 0\n",
       " im getting on borderlands and i will murder you all ,    0\n",
       " dtype: int64)"
      ]
     },
     "execution_count": 19,
     "metadata": {},
     "output_type": "execute_result"
    }
   ],
   "source": [
    "tdc = td.drop_duplicates()#trained data  cleaned\n",
    "\n",
    "tdc = tdc.dropna(subset=[td.columns[3]])\n",
    "\n",
    "\n",
    "rdt = tdc.duplicated().sum()#remaining_duplicates_train\n",
    "rmt = tdc.isnull().sum()#remaining_missing_train\n",
    "\n",
    "rdt,rmt"
   ]
  },
  {
   "cell_type": "code",
   "execution_count": 22,
   "id": "e81ebd66-4741-4dce-beda-bd34541bc74c",
   "metadata": {},
   "outputs": [
    {
     "data": {
      "image/png": "[encoded data removed]",
      "text/plain": [
       "<Figure size 1500x500 with 2 Axes>"
      ]
     },
     "metadata": {},
     "output_type": "display_data"
    }
   ],
   "source": [
    "fig, ax = plt.subplots(1, 2, figsize=(15, 5))\n",
    "\n",
    "sns.countplot(data=tdc, x=tdc.columns[2], order=['Positive', 'Negative', 'Neutral', 'Irrelevant'], ax=ax[0], palette='pastel')  # Use a different color palette\n",
    "ax[0].set_title('Sentiment Distribution in Training Data')\n",
    "ax[0].set_ylabel('Count')\n",
    "ax[0].set_xlabel('Sentiment')\n",
    "\n",
    "sns.countplot(data=vd, x=vd.columns[2], order=['Positive', 'Negative', 'Neutral', 'Irrelevant'], ax=ax[1], palette='Set3')  # Use a different color palette\n",
    "ax[1].set_title('Sentiment Distribution in Validation Data')\n",
    "ax[1].set_ylabel('Count')\n",
    "ax[1].set_xlabel('Sentiment')\n",
    "\n",
    "plt.tight_layout()\n",
    "plt.show()"
   ]
  },
  {
   "cell_type": "code",
   "execution_count": 3,
   "id": "c54af208-73a6-4c77-815b-f1287d0e0682",
   "metadata": {},
   "outputs": [
    {
     "data": {
      "text/html": [
       "<div>\n",
       "<style scoped>\n",
       "    .dataframe tbody tr th:only-of-type {\n",
       "        vertical-align: middle;\n",
       "    }\n",
       "\n",
       "    .dataframe tbody tr th {\n",
       "        vertical-align: top;\n",
       "    }\n",
       "\n",
       "    .dataframe thead th {\n",
       "        text-align: right;\n",
       "    }\n",
       "</style>\n",
       "<table border=\"1\" class=\"dataframe\">\n",
       "  <thead>\n",
       "    <tr style=\"text-align: right;\">\n",
       "      <th></th>\n",
       "      <th>ID</th>\n",
       "      <th>Entity</th>\n",
       "      <th>Sentiment</th>\n",
       "      <th>Content</th>\n",
       "    </tr>\n",
       "  </thead>\n",
       "  <tbody>\n",
       "    <tr>\n",
       "      <th>0</th>\n",
       "      <td>2401</td>\n",
       "      <td>Borderlands</td>\n",
       "      <td>Positive</td>\n",
       "      <td>im getting on borderlands and i will murder yo...</td>\n",
       "    </tr>\n",
       "    <tr>\n",
       "      <th>1</th>\n",
       "      <td>2401</td>\n",
       "      <td>Borderlands</td>\n",
       "      <td>Positive</td>\n",
       "      <td>I am coming to the borders and I will kill you...</td>\n",
       "    </tr>\n",
       "    <tr>\n",
       "      <th>2</th>\n",
       "      <td>2401</td>\n",
       "      <td>Borderlands</td>\n",
       "      <td>Positive</td>\n",
       "      <td>im getting on borderlands and i will kill you ...</td>\n",
       "    </tr>\n",
       "    <tr>\n",
       "      <th>3</th>\n",
       "      <td>2401</td>\n",
       "      <td>Borderlands</td>\n",
       "      <td>Positive</td>\n",
       "      <td>im coming on borderlands and i will murder you...</td>\n",
       "    </tr>\n",
       "    <tr>\n",
       "      <th>4</th>\n",
       "      <td>2401</td>\n",
       "      <td>Borderlands</td>\n",
       "      <td>Positive</td>\n",
       "      <td>im getting on borderlands 2 and i will murder ...</td>\n",
       "    </tr>\n",
       "  </tbody>\n",
       "</table>\n",
       "</div>"
      ],
      "text/plain": [
       "     ID       Entity Sentiment  \\\n",
       "0  2401  Borderlands  Positive   \n",
       "1  2401  Borderlands  Positive   \n",
       "2  2401  Borderlands  Positive   \n",
       "3  2401  Borderlands  Positive   \n",
       "4  2401  Borderlands  Positive   \n",
       "\n",
       "                                             Content  \n",
       "0  im getting on borderlands and i will murder yo...  \n",
       "1  I am coming to the borders and I will kill you...  \n",
       "2  im getting on borderlands and i will kill you ...  \n",
       "3  im coming on borderlands and i will murder you...  \n",
       "4  im getting on borderlands 2 and i will murder ...  "
      ]
     },
     "execution_count": 3,
     "metadata": {},
     "output_type": "execute_result"
    }
   ],
   "source": [
    "col_names = ['ID', 'Entity', 'Sentiment', 'Content']\n",
    "df = pd.read_csv('twitter_training.csv', names=col_names)\n",
    "df.head()"
   ]
  },
  {
   "cell_type": "code",
   "execution_count": 3,
   "id": "cf5b7c92-0957-4cc2-b465-686819d5c812",
   "metadata": {},
   "outputs": [
    {
     "data": {
      "text/plain": [
       "(74681, 4)"
      ]
     },
     "execution_count": 3,
     "metadata": {},
     "output_type": "execute_result"
    }
   ],
   "source": [
    "#EDA\n",
    "#to check the shape of the data \n",
    "df.shape"
   ]
  },
  {
   "cell_type": "code",
   "execution_count": 7,
   "id": "677a957b-6fcc-4eff-b4c0-46d022a26e6f",
   "metadata": {},
   "outputs": [
    {
     "data": {
      "text/plain": [
       "2401                                                     2700\n",
       "Borderlands                                              2700\n",
       "Positive                                                 2700\n",
       "im getting on borderlands and i will murder you all ,    2340\n",
       "dtype: int64"
      ]
     },
     "execution_count": 7,
     "metadata": {},
     "output_type": "execute_result"
    }
   ],
   "source": [
    "#checking for the duplicates\n",
    "duplicates = df.duplicated()\n",
    "duplicated_rows = df[duplicates]\n",
    "duplicated_rows.count()"
   ]
  },
  {
   "cell_type": "code",
   "execution_count": 8,
   "id": "f1aa36d6-d5e9-4a14-88f2-d3081795c9f5",
   "metadata": {},
   "outputs": [],
   "source": [
    "# Dropping Duplicates\n",
    "df.drop_duplicates(inplace=True)"
   ]
  },
  {
   "cell_type": "code",
   "execution_count": 9,
   "id": "88372af2-b873-48ac-8cac-047ff4ccafe9",
   "metadata": {},
   "outputs": [
    {
     "data": {
      "text/plain": [
       "2401                                                       0\n",
       "Borderlands                                                0\n",
       "Positive                                                   0\n",
       "im getting on borderlands and i will murder you all ,    326\n",
       "dtype: int64"
      ]
     },
     "execution_count": 9,
     "metadata": {},
     "output_type": "execute_result"
    }
   ],
   "source": [
    "#checking for the null value\n",
    "df.isnull().sum()\n"
   ]
  },
  {
   "cell_type": "code",
   "execution_count": 10,
   "id": "0fbdfbc4-a89d-4704-aa63-6d511871dcf7",
   "metadata": {},
   "outputs": [],
   "source": [
    "# Dropping missing value [ Using Dropna]\n",
    "df = df.dropna()"
   ]
  },
  {
   "cell_type": "code",
   "execution_count": 11,
   "id": "ae36d4b4-3be2-4b84-b9ff-1b2dc88036b1",
   "metadata": {},
   "outputs": [
    {
     "data": {
      "text/plain": [
       "2401                                                     0\n",
       "Borderlands                                              0\n",
       "Positive                                                 0\n",
       "im getting on borderlands and i will murder you all ,    0\n",
       "dtype: int64"
      ]
     },
     "execution_count": 11,
     "metadata": {},
     "output_type": "execute_result"
    }
   ],
   "source": [
    "#sumof th enull value\n",
    "df.isnull().sum()"
   ]
  },
  {
   "cell_type": "code",
   "execution_count": 14,
   "id": "2216c7d2-cd25-4338-b33b-309ebe4263a6",
   "metadata": {},
   "outputs": [
    {
     "data": {
      "text/plain": [
       "2401                                                     12447\n",
       "Borderlands                                                 32\n",
       "Positive                                                     4\n",
       "im getting on borderlands and i will murder you all ,    69490\n",
       "dtype: int64"
      ]
     },
     "execution_count": 14,
     "metadata": {},
     "output_type": "execute_result"
    }
   ],
   "source": [
    "# Number of Unique Values\n",
    "df.nunique()"
   ]
  },
  {
   "cell_type": "code",
   "execution_count": null,
   "id": "2450f6fc-2b28-47f9-8519-836eacf384f8",
   "metadata": {},
   "outputs": [],
   "source": []
  }
 ],
 "metadata": {
  "kernelspec": {
   "display_name": "Python 3 (ipykernel)",
   "language": "python",
   "name": "python3"
  },
  "language_info": {
   "codemirror_mode": {
    "name": "ipython",
    "version": 3
   },
   "file_extension": ".py",
   "mimetype": "text/x-python",
   "name": "python",
   "nbconvert_exporter": "python",
   "pygments_lexer": "ipython3",
   "version": "3.11.7"
  }
 },
 "nbformat": 4,
 "nbformat_minor": 5
}
